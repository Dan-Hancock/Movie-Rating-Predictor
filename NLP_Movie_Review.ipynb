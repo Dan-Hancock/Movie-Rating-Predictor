{
 "cells": [
  {
   "cell_type": "markdown",
   "id": "949a21b8-f558-4ff3-9d85-4f9476093daa",
   "metadata": {},
   "source": [
    "This project prompts the user to give their thoughts on a movie they have seen. Then, it will provide an estimation of what that person would rate the movie out of 5, with 5 being the best and 1 being the worst."
   ]
  },
  {
   "cell_type": "code",
   "execution_count": 187,
   "id": "b62cd010-518b-47d6-b1fe-46998f66aeb8",
   "metadata": {},
   "outputs": [],
   "source": [
    "# Imports metric dataframe if already calculated\n",
    "import pandas as pd\n",
    "df = pd.read_csv('rotten_tomatoes_critic_reviews.csv')\n",
    "import math"
   ]
  },
  {
   "cell_type": "code",
   "execution_count": 188,
   "id": "4461fa57-f079-43a5-b0f4-d59a4c4bed1d",
   "metadata": {},
   "outputs": [],
   "source": [
    "reviews = []\n",
    "ratings = []\n",
    "data = []\n",
    "for review in df.itertuples(index=False):\n",
    "    if (type(review[5]) == str and type(review[7]) == str):\n",
    "        reviews.append(review[7])\n",
    "        if review[5] == 'A+':\n",
    "            ratings.append('5/5')\n",
    "        elif review[5] == 'A':\n",
    "            ratings.append('4.5/5')\n",
    "        elif review[5] == 'A-':\n",
    "            ratings.append('4.75/5')\n",
    "        elif review[5] == 'A  -':\n",
    "            ratings.append('4.75/5')\n",
    "        elif review[5] == 'B+':\n",
    "            ratings.append('4/5')\n",
    "        elif review[5] == 'B':\n",
    "            ratings.append('3.5/5')\n",
    "        elif review[5] == 'B-':\n",
    "            ratings.append('3.25/5')\n",
    "        elif review[5] == 'C+':\n",
    "            ratings.append('3/5')\n",
    "        elif review[5] == 'C':\n",
    "            ratings.append('2.5/5')\n",
    "        elif review[5] == 'C-':\n",
    "            ratings.append('2.25/5')\n",
    "        elif review[5] == 'C  -':\n",
    "            ratings.append('2.25/5')\n",
    "        elif review[5] == 'D+':\n",
    "            ratings.append('2/5')\n",
    "        elif review[5] == 'D':\n",
    "            ratings.append('1.5/5')\n",
    "        elif review[5] == 'D-':\n",
    "            ratings.append('1.25/5')\n",
    "        elif review[5] == 'F+':\n",
    "            ratings.append('1/5')\n",
    "        elif review[5] == 'F':\n",
    "            ratings.append('0.5/5')\n",
    "        elif review[5] == 'F-':\n",
    "            ratings.append('0.25/5')\n",
    "        else:\n",
    "            ratings.append(review[5])"
   ]
  },
  {
   "cell_type": "code",
   "execution_count": 189,
   "id": "ade1be05-db6a-4bd7-853a-910506060560",
   "metadata": {},
   "outputs": [],
   "source": [
    "ratings_as_float= []\n",
    "for i in ratings:\n",
    "    if '/' in i:\n",
    "        a , b = i.split(\"/\")\n",
    "        if float(b) == 0:\n",
    "            b = 100\n",
    "        to_float = float(a) / float(b)\n",
    "        ratings_as_float.append(to_float)\n",
    "    else:\n",
    "        if float(i) < 10:\n",
    "            ratings_as_float.append(float(i)/10)\n",
    "        elif float(i) <= 100:\n",
    "            ratings_as_float.append(float(i)/100)\n",
    "        else:\n",
    "            ratings_as_float.append(float(i)/1000)"
   ]
  },
  {
   "cell_type": "code",
   "execution_count": 190,
   "id": "ada14cd7-7d27-4406-8c22-daddeb037d6f",
   "metadata": {},
   "outputs": [],
   "source": [
    "Data = pd.DataFrame({'Review':reviews,'Rating':ratings_as_float})"
   ]
  },
  {
   "cell_type": "code",
   "execution_count": null,
   "id": "2d5eb0d4-e55e-48c9-b39e-47113286ef42",
   "metadata": {},
   "outputs": [
    {
     "data": {
      "text/html": [
       "<div>\n",
       "<style scoped>\n",
       "    .dataframe tbody tr th:only-of-type {\n",
       "        vertical-align: middle;\n",
       "    }\n",
       "\n",
       "    .dataframe tbody tr th {\n",
       "        vertical-align: top;\n",
       "    }\n",
       "\n",
       "    .dataframe thead th {\n",
       "        text-align: right;\n",
       "    }\n",
       "</style>\n",
       "<table border=\"1\" class=\"dataframe\">\n",
       "  <thead>\n",
       "    <tr style=\"text-align: right;\">\n",
       "      <th></th>\n",
       "      <th>Review</th>\n",
       "      <th>Rating</th>\n",
       "    </tr>\n",
       "  </thead>\n",
       "  <tbody>\n",
       "    <tr>\n",
       "      <th>0</th>\n",
       "      <td>Whether audiences will get behind The Lightnin...</td>\n",
       "      <td>0.70</td>\n",
       "    </tr>\n",
       "    <tr>\n",
       "      <th>1</th>\n",
       "      <td>Harry Potter knockoffs don't come more transpa...</td>\n",
       "      <td>0.25</td>\n",
       "    </tr>\n",
       "    <tr>\n",
       "      <th>2</th>\n",
       "      <td>Percy Jackson isn't a great movie, but it's a ...</td>\n",
       "      <td>0.70</td>\n",
       "    </tr>\n",
       "    <tr>\n",
       "      <th>3</th>\n",
       "      <td>Fun, brisk and imaginative</td>\n",
       "      <td>0.70</td>\n",
       "    </tr>\n",
       "    <tr>\n",
       "      <th>4</th>\n",
       "      <td>Crammed with dragons, set-destroying fights an...</td>\n",
       "      <td>0.60</td>\n",
       "    </tr>\n",
       "    <tr>\n",
       "      <th>...</th>\n",
       "      <td>...</td>\n",
       "      <td>...</td>\n",
       "    </tr>\n",
       "    <tr>\n",
       "      <th>758704</th>\n",
       "      <td>As a spectacular war film with a powerful mora...</td>\n",
       "      <td>0.80</td>\n",
       "    </tr>\n",
       "    <tr>\n",
       "      <th>758705</th>\n",
       "      <td>Seen today, it's not only a startling indictme...</td>\n",
       "      <td>0.70</td>\n",
       "    </tr>\n",
       "    <tr>\n",
       "      <th>758706</th>\n",
       "      <td>A rousing visual spectacle that's a prequel of...</td>\n",
       "      <td>0.80</td>\n",
       "    </tr>\n",
       "    <tr>\n",
       "      <th>758707</th>\n",
       "      <td>A simple two-act story: Prelude to war, and th...</td>\n",
       "      <td>0.70</td>\n",
       "    </tr>\n",
       "    <tr>\n",
       "      <th>758708</th>\n",
       "      <td>Rides the line between being a pure artifact o...</td>\n",
       "      <td>0.50</td>\n",
       "    </tr>\n",
       "  </tbody>\n",
       "</table>\n",
       "<p>758709 rows × 2 columns</p>\n",
       "</div>"
      ],
      "text/plain": [
       "                                                   Review  Rating\n",
       "0       Whether audiences will get behind The Lightnin...    0.70\n",
       "1       Harry Potter knockoffs don't come more transpa...    0.25\n",
       "2       Percy Jackson isn't a great movie, but it's a ...    0.70\n",
       "3                              Fun, brisk and imaginative    0.70\n",
       "4       Crammed with dragons, set-destroying fights an...    0.60\n",
       "...                                                   ...     ...\n",
       "758704  As a spectacular war film with a powerful mora...    0.80\n",
       "758705  Seen today, it's not only a startling indictme...    0.70\n",
       "758706  A rousing visual spectacle that's a prequel of...    0.80\n",
       "758707  A simple two-act story: Prelude to war, and th...    0.70\n",
       "758708  Rides the line between being a pure artifact o...    0.50\n",
       "\n",
       "[758709 rows x 2 columns]"
      ]
     },
     "execution_count": 193,
     "metadata": {},
     "output_type": "execute_result"
    }
   ],
   "source": [
    "import nltk"
   ]
  },
  {
   "cell_type": "code",
   "execution_count": null,
   "id": "de7f2cff-e397-4ffb-b9fa-37d9fbe2ac49",
   "metadata": {},
   "outputs": [],
   "source": [
    "tokens = []\n",
    "for review in Data['Review']:\n",
    "    token = nltk.word_tokenize(review)\n",
    "    tokens.append(token)"
   ]
  },
  {
   "cell_type": "code",
   "execution_count": null,
   "id": "abd554fa-c789-4a91-95da-56ee045326db",
   "metadata": {},
   "outputs": [],
   "source": [
    "import fasttext"
   ]
  },
  {
   "cell_type": "code",
   "execution_count": null,
   "id": "e9cfc0dc-d52d-4680-bae1-c9a404c17433",
   "metadata": {},
   "outputs": [],
   "source": [
    "a"
   ]
  },
  {
   "cell_type": "code",
   "execution_count": null,
   "id": "11d4f261-6f22-4cb6-aa19-8fea40d35c52",
   "metadata": {},
   "outputs": [],
   "source": []
  }
 ],
 "metadata": {
  "kernelspec": {
   "display_name": "Python 3",
   "language": "python",
   "name": "python3"
  },
  "language_info": {
   "codemirror_mode": {
    "name": "ipython",
    "version": 3
   },
   "file_extension": ".py",
   "mimetype": "text/x-python",
   "name": "python",
   "nbconvert_exporter": "python",
   "pygments_lexer": "ipython3",
   "version": "3.8.8"
  }
 },
 "nbformat": 4,
 "nbformat_minor": 5
}
