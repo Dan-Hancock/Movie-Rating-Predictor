{
 "cells": [
  {
   "cell_type": "markdown",
   "id": "949a21b8-f558-4ff3-9d85-4f9476093daa",
   "metadata": {},
   "source": [
    "This project prompts the user to give their thoughts on a movie they have seen. Then, it will provide an estimation of what that person would rate the movie out of 5, with 5 being the best and 1 being the worst."
   ]
  },
  {
   "cell_type": "code",
   "execution_count": 1,
   "id": "b62cd010-518b-47d6-b1fe-46998f66aeb8",
   "metadata": {},
   "outputs": [],
   "source": [
    "# Imports necessary packages and load the dataframe\n",
    "# CSV from https://www.kaggle.com/datasets/stefanoleone992/rotten-tomatoes-movies-and-critic-reviews-dataset/\n",
    "import pandas as pd\n",
    "import math\n",
    "import numpy as np\n",
    "df = pd.read_csv('rotten_tomatoes_critic_reviews.csv')\n"
   ]
  },
  {
   "cell_type": "code",
   "execution_count": 2,
   "id": "4461fa57-f079-43a5-b0f4-d59a4c4bed1d",
   "metadata": {},
   "outputs": [],
   "source": [
    "#Separating necessary data from this project\n",
    "#Converting letter grades to numerical grades\n",
    "\n",
    "reviews = []\n",
    "ratings = []\n",
    "for review in df.itertuples(index=False):\n",
    "    if (type(review[5]) == str and type(review[7]) == str):\n",
    "        reviews.append(review[7])\n",
    "        if review[5] == 'A+':\n",
    "            ratings.append('5/5')\n",
    "        elif review[5] == 'A':\n",
    "            ratings.append('4.5/5')\n",
    "        elif review[5] == 'A-':\n",
    "            ratings.append('4.75/5')\n",
    "        elif review[5] == 'A  -':\n",
    "            ratings.append('4.75/5')\n",
    "        elif review[5] == 'B+':\n",
    "            ratings.append('4/5')\n",
    "        elif review[5] == 'B':\n",
    "            ratings.append('3.5/5')\n",
    "        elif review[5] == 'B-':\n",
    "            ratings.append('3.25/5')\n",
    "        elif review[5] == 'C+':\n",
    "            ratings.append('3/5')\n",
    "        elif review[5] == 'C':\n",
    "            ratings.append('2.5/5')\n",
    "        elif review[5] == 'C-':\n",
    "            ratings.append('2.25/5')\n",
    "        elif review[5] == 'C  -':\n",
    "            ratings.append('2.25/5')\n",
    "        elif review[5] == 'D+':\n",
    "            ratings.append('2/5')\n",
    "        elif review[5] == 'D':\n",
    "            ratings.append('1.5/5')\n",
    "        elif review[5] == 'D-':\n",
    "            ratings.append('1.25/5')\n",
    "        elif review[5] == 'F+':\n",
    "            ratings.append('1/5')\n",
    "        elif review[5] == 'F':\n",
    "            ratings.append('0.5/5')\n",
    "        elif review[5] == 'F-':\n",
    "            ratings.append('0.25/5')\n",
    "        else:\n",
    "            ratings.append(review[5])"
   ]
  },
  {
   "cell_type": "code",
   "execution_count": 3,
   "id": "ade1be05-db6a-4bd7-853a-910506060560",
   "metadata": {},
   "outputs": [],
   "source": [
    "#Converting strings and fractions to floats for the LSTM\n",
    "#Taking in to account errors and some typos that were in the dataset\n",
    "\n",
    "ratings_as_float= []\n",
    "for i in ratings:\n",
    "    if '/' in i:\n",
    "        a , b = i.split(\"/\")\n",
    "        if float(b) == 0:\n",
    "            b = 100\n",
    "        to_float = float(a) / float(b)\n",
    "        ratings_as_float.append(to_float)\n",
    "    else:\n",
    "        if float(i) < 10:\n",
    "            ratings_as_float.append(float(i)/10)\n",
    "        elif float(i) <= 100:\n",
    "            ratings_as_float.append(float(i)/100)\n",
    "        else:\n",
    "            ratings_as_float.append(float(i)/1000)"
   ]
  },
  {
   "cell_type": "code",
   "execution_count": 4,
   "id": "ada14cd7-7d27-4406-8c22-daddeb037d6f",
   "metadata": {},
   "outputs": [],
   "source": [
    "#Load needed data into a dataframe\n",
    "Data = pd.DataFrame({'Review':reviews,'Rating':ratings_as_float})\n"
   ]
  },
  {
   "cell_type": "code",
   "execution_count": 5,
   "id": "48721ebe-7676-4428-9177-4c47c47da639",
   "metadata": {},
   "outputs": [],
   "source": [
    "#Replace non-letter characters with space\n",
    "\n",
    "import re\n",
    "\n",
    "def preprocess(text):\n",
    "    text = re.sub(r'[^\\w\\s\\']', ' ', text)\n",
    "    text = re.sub(r' + ', ' ',text)\n",
    "    return text.strip().lower()"
   ]
  },
  {
   "cell_type": "code",
   "execution_count": 6,
   "id": "d8217a4f-f117-4b82-b99a-471f6330565b",
   "metadata": {},
   "outputs": [],
   "source": [
    "#Preprocess\n",
    "Data['Review'] = Data['Review'].map(preprocess)"
   ]
  },
  {
   "cell_type": "markdown",
   "id": "487169ff-ea1c-44e1-8ce5-cf0402370174",
   "metadata": {},
   "source": [
    "Fasttext Method"
   ]
  },
  {
   "cell_type": "code",
   "execution_count": 7,
   "id": "32c613ce-e4d2-4b32-9ed9-97ee9fb749e1",
   "metadata": {},
   "outputs": [],
   "source": [
    "#Preprocess specifically for fasttext\n",
    "Data['Rating'] = \"__label__\" + (Data['Rating'].astype(str))\n",
    "Data[\"labeled_review\"] = Data['Rating'] + \" \" + Data['Review']"
   ]
  },
  {
   "cell_type": "code",
   "execution_count": 29,
   "id": "77fa33b9-0f27-492b-8d41-3fbf19db0d41",
   "metadata": {},
   "outputs": [],
   "source": [
    "#Prepare test and training\n",
    "from sklearn.model_selection import train_test_split\n",
    "\n",
    "train, test = train_test_split(Data, test_size=0.30)"
   ]
  },
  {
   "cell_type": "code",
   "execution_count": 30,
   "id": "afbf6d5d-829c-4eaa-ae33-e5f4f3fb33ad",
   "metadata": {},
   "outputs": [],
   "source": [
    "#Export to csv\n",
    "train.to_csv(\"review.train\", columns=['labeled_review'], index=False, header=False)\n",
    "test.to_csv(\"review.test\", columns=['labeled_review'], index=False, header=False)"
   ]
  },
  {
   "cell_type": "code",
   "execution_count": 31,
   "id": "ce5511b5-6bf2-4e25-ad41-a6fd7367cfc9",
   "metadata": {},
   "outputs": [
    {
     "data": {
      "text/plain": [
       "(37924, 0.25018457968568714, 0.25018457968568714)"
      ]
     },
     "execution_count": 31,
     "metadata": {},
     "output_type": "execute_result"
    }
   ],
   "source": [
    "#Run fasttext model\n",
    "import fasttext\n",
    "\n",
    "model = fasttext.train_supervised(\"review.train\")\n",
    "model.test(\"review.test\")"
   ]
  },
  {
   "cell_type": "code",
   "execution_count": 40,
   "id": "ead923bc-ea02-4dba-8973-680f93305a80",
   "metadata": {},
   "outputs": [
    {
     "data": {
      "text/plain": [
       "(('__label__0.8',), array([0.18067279]))"
      ]
     },
     "execution_count": 40,
     "metadata": {},
     "output_type": "execute_result"
    }
   ],
   "source": [
    "#Predict\n",
    "model.predict('The action scenes were good and the story and characters were amazing')"
   ]
  },
  {
   "cell_type": "markdown",
   "id": "79dd09ab-ba40-433f-8702-f5447fd954f5",
   "metadata": {},
   "source": [
    "LSTM Method"
   ]
  },
  {
   "cell_type": "code",
   "execution_count": 7,
   "id": "eb79b0de-1a7e-425e-8af7-3590b3912115",
   "metadata": {},
   "outputs": [],
   "source": [
    "from keras.preprocessing.text import Tokenizer"
   ]
  },
  {
   "cell_type": "code",
   "execution_count": 7,
   "id": "d91ce02f-dc7f-4a77-8e69-fc97636d5abc",
   "metadata": {},
   "outputs": [],
   "source": [
    "import tensorflow as tf"
   ]
  },
  {
   "cell_type": "code",
   "execution_count": 8,
   "id": "2d5eb0d4-e55e-48c9-b39e-47113286ef42",
   "metadata": {},
   "outputs": [],
   "source": [
    "import tensorflow.keras as keras"
   ]
  },
  {
   "cell_type": "code",
   "execution_count": 9,
   "id": "d0c1912f-8b66-48ef-98a5-ced7483f6e25",
   "metadata": {},
   "outputs": [],
   "source": [
    "from keras.models import Model, load_model\n",
    "from keras.layers import Dense, Input, Dropout, LSTM, Activation, Bidirectional, Flatten\n",
    "from keras.layers import Embedding\n",
    "from keras.preprocessing import sequence\n",
    "from keras.initializers import glorot_uniform\n",
    "from keras.preprocessing.text import Tokenizer\n",
    "from keras.callbacks import ModelCheckpoint, EarlyStopping\n",
    "from keras.regularizers import l1, l2\n",
    "from keras.optimizers import Adam"
   ]
  },
  {
   "cell_type": "code",
   "execution_count": 10,
   "id": "f46276fe-b309-4a19-9f52-7d52d3e78773",
   "metadata": {},
   "outputs": [],
   "source": [
    "from sklearn.model_selection import train_test_split\n",
    "\n",
    "train, test = train_test_split(Data, test_size=0.30)"
   ]
  },
  {
   "cell_type": "code",
   "execution_count": 11,
   "id": "cdd27807-4aca-4376-beb9-74a8f2dc6086",
   "metadata": {},
   "outputs": [],
   "source": [
    "all_sentences = pd.concat([train, test], axis=0)\n",
    "tokenizer = Tokenizer(split=' ')"
   ]
  },
  {
   "cell_type": "code",
   "execution_count": 12,
   "id": "78f0efdd-6792-417a-a0bd-166c1d67bd01",
   "metadata": {},
   "outputs": [],
   "source": [
    "tokenizer.fit_on_texts(all_sentences['Review'])\n",
    "sequences = tokenizer.texts_to_sequences(all_sentences['Review'])\n",
    "word_index = tokenizer.word_index\n",
    "data = sequence.pad_sequences(sequences, padding = 'post')"
   ]
  },
  {
   "cell_type": "code",
   "execution_count": 16,
   "id": "47af9280-bf4c-4ec6-b750-9d2c850895f1",
   "metadata": {},
   "outputs": [],
   "source": [
    "from gensim.models import FastText"
   ]
  },
  {
   "cell_type": "code",
   "execution_count": 17,
   "id": "3d3ded51-8731-4a3b-874e-8a5f8d5a2f47",
   "metadata": {},
   "outputs": [],
   "source": [
    "fasttext_model=FastText(alpha=0.025,window=5,min_count=1,workers=4)\n",
    "fasttext_model.build_vocab(sequences)"
   ]
  },
  {
   "cell_type": "code",
   "execution_count": 18,
   "id": "2f9b614d-867e-41b9-ac64-05fda48af30e",
   "metadata": {},
   "outputs": [],
   "source": [
    "fasttext_model.train(sequences, total_examples=len(sequences), epochs=3)\n",
    "fasttext_model.save(\"review_model.bin\")"
   ]
  },
  {
   "cell_type": "code",
   "execution_count": 19,
   "id": "0ec205ef-0f57-400b-b675-35b0434d696d",
   "metadata": {},
   "outputs": [
    {
     "name": "stdout",
     "output_type": "stream",
     "text": [
      "131662\n"
     ]
    }
   ],
   "source": [
    "vocab_size = len(word_index) + 1 \n",
    "print(vocab_size)\n",
    "embedding_matrix = np.random.random((vocab_size, 100))\n",
    "for word, i in word_index.items():\n",
    "    try:\n",
    "        embedding_vector = fasttext_model.wv[word]\n",
    "    except:\n",
    "        print(word, 'not found')\n",
    "    if embedding_vector is not None:\n",
    "        embedding_matrix[i, :] = embedding_vector"
   ]
  },
  {
   "cell_type": "code",
   "execution_count": 42,
   "id": "512ca874-973d-4a04-bf02-80e0e6997e52",
   "metadata": {},
   "outputs": [],
   "source": [
    "def build_model():\n",
    "    sentence_indices = Input(shape=(60,), dtype='int32')\n",
    "    \n",
    "    embeddings = Embedding(input_dim=vocab_size, output_dim=100, weights=[embedding_matrix])(sentence_indices)      \n",
    "\n",
    "    X = Bidirectional(LSTM(units = 128, kernel_regularizer=l1(0.000001), return_sequences = True))(embeddings)\n",
    "    X = Dropout(rate = 0.2)(X)\n",
    "    X = Dense(128, activation='relu')(X)\n",
    "    X = Dense(1, activation='sigmoid')(X)\n",
    "    \n",
    "    model = Model(inputs=sentence_indices, outputs=X)\n",
    "    \n",
    "    return model"
   ]
  },
  {
   "cell_type": "code",
   "execution_count": 43,
   "id": "bf623fd1-dbf1-4528-8a96-1e4fe59487c1",
   "metadata": {},
   "outputs": [
    {
     "name": "stdout",
     "output_type": "stream",
     "text": [
      "Model: \"model_3\"\n",
      "_________________________________________________________________\n",
      " Layer (type)                Output Shape              Param #   \n",
      "=================================================================\n",
      " input_4 (InputLayer)        [(None, 60)]              0         \n",
      "                                                                 \n",
      " embedding_3 (Embedding)     (None, 60, 100)           13166200  \n",
      "                                                                 \n",
      " bidirectional_3 (Bidirecti  (None, 60, 256)           234496    \n",
      " onal)                                                           \n",
      "                                                                 \n",
      " dropout_3 (Dropout)         (None, 60, 256)           0         \n",
      "                                                                 \n",
      " dense_6 (Dense)             (None, 60, 128)           32896     \n",
      "                                                                 \n",
      " dense_7 (Dense)             (None, 60, 1)             129       \n",
      "                                                                 \n",
      "=================================================================\n",
      "Total params: 13433721 (51.25 MB)\n",
      "Trainable params: 13433721 (51.25 MB)\n",
      "Non-trainable params: 0 (0.00 Byte)\n",
      "_________________________________________________________________\n"
     ]
    }
   ],
   "source": [
    "model = build_model()\n",
    "model.summary()"
   ]
  },
  {
   "cell_type": "code",
   "execution_count": 44,
   "id": "e4c2fdcc-aac4-4bbd-87ef-f9f034f7a8b0",
   "metadata": {},
   "outputs": [
    {
     "name": "stdout",
     "output_type": "stream",
     "text": [
      "(531096, 60) (227613, 60)\n"
     ]
    }
   ],
   "source": [
    "train_data = data[:train.shape[0]]\n",
    "test_data = data[train.shape[0]:]\n",
    "print(train_data.shape, test_data.shape)"
   ]
  },
  {
   "cell_type": "code",
   "execution_count": 45,
   "id": "2758c920-2efa-4cda-a9be-fbc923037241",
   "metadata": {},
   "outputs": [],
   "source": [
    "X_train_val, X_test, Y_train_val, Y_test = train_test_split(train_data, train[\"Rating\"].values, test_size=0.3)\n",
    "X_train, X_val, Y_train, Y_val = train_test_split(X_train_val, Y_train_val, test_size=0.3)"
   ]
  },
  {
   "cell_type": "code",
   "execution_count": 46,
   "id": "95bff5f3-7063-46b1-a6fb-19cd8c13d771",
   "metadata": {},
   "outputs": [],
   "source": [
    "Y_train = np.asarray(Y_train).astype('float32').reshape((-1,1))\n",
    "Y_test = np.asarray(Y_test).astype('float32').reshape((-1,1))"
   ]
  },
  {
   "cell_type": "code",
   "execution_count": 47,
   "id": "23043603-f08f-497f-a48c-fb9471c68d61",
   "metadata": {},
   "outputs": [
    {
     "name": "stdout",
     "output_type": "stream",
     "text": [
      "2034/2034 [==============================] - 842s 412ms/step - loss: 0.1339 - accuracy: 0.0556 - val_loss: 0.2003 - val_accuracy: 0.0461\n"
     ]
    }
   ],
   "source": [
    "adam = Adam(learning_rate=0.001)\n",
    "model.compile(loss='mean_absolute_error',optimizer=adam,metrics=['accuracy'])\n",
    "history = model.fit(X_train, Y_train, batch_size=128, epochs=1, validation_data = (X_val, Y_val))"
   ]
  },
  {
   "cell_type": "code",
   "execution_count": 60,
   "id": "1f273c5a-5774-4df4-8d18-6728f5850357",
   "metadata": {},
   "outputs": [
    {
     "name": "stdout",
     "output_type": "stream",
     "text": [
      "7113/7113 [==============================] - 138s 19ms/step\n"
     ]
    },
    {
     "ename": "AssertionError",
     "evalue": "Shape of new values must be compatible with manager shape",
     "output_type": "error",
     "traceback": [
      "\u001b[1;31m---------------------------------------------------------------------------\u001b[0m",
      "\u001b[1;31mAssertionError\u001b[0m                            Traceback (most recent call last)",
      "\u001b[1;32m<ipython-input-60-5f00a20051e1>\u001b[0m in \u001b[0;36m<module>\u001b[1;34m\u001b[0m\n\u001b[1;32m----> 1\u001b[1;33m \u001b[0mtest\u001b[0m\u001b[1;33m[\u001b[0m\u001b[1;34m'Rating'\u001b[0m\u001b[1;33m]\u001b[0m \u001b[1;33m=\u001b[0m \u001b[0mmodel\u001b[0m\u001b[1;33m.\u001b[0m\u001b[0mpredict\u001b[0m\u001b[1;33m(\u001b[0m\u001b[0mtest_data\u001b[0m\u001b[1;33m)\u001b[0m\u001b[1;33m\u001b[0m\u001b[1;33m\u001b[0m\u001b[0m\n\u001b[0m",
      "\u001b[1;32m~\\anaconda3\\lib\\site-packages\\pandas\\core\\frame.py\u001b[0m in \u001b[0;36m__setitem__\u001b[1;34m(self, key, value)\u001b[0m\n\u001b[0;32m   3161\u001b[0m         \u001b[1;32melse\u001b[0m\u001b[1;33m:\u001b[0m\u001b[1;33m\u001b[0m\u001b[1;33m\u001b[0m\u001b[0m\n\u001b[0;32m   3162\u001b[0m             \u001b[1;31m# set column\u001b[0m\u001b[1;33m\u001b[0m\u001b[1;33m\u001b[0m\u001b[1;33m\u001b[0m\u001b[0m\n\u001b[1;32m-> 3163\u001b[1;33m             \u001b[0mself\u001b[0m\u001b[1;33m.\u001b[0m\u001b[0m_set_item\u001b[0m\u001b[1;33m(\u001b[0m\u001b[0mkey\u001b[0m\u001b[1;33m,\u001b[0m \u001b[0mvalue\u001b[0m\u001b[1;33m)\u001b[0m\u001b[1;33m\u001b[0m\u001b[1;33m\u001b[0m\u001b[0m\n\u001b[0m\u001b[0;32m   3164\u001b[0m \u001b[1;33m\u001b[0m\u001b[0m\n\u001b[0;32m   3165\u001b[0m     \u001b[1;32mdef\u001b[0m \u001b[0m_setitem_slice\u001b[0m\u001b[1;33m(\u001b[0m\u001b[0mself\u001b[0m\u001b[1;33m,\u001b[0m \u001b[0mkey\u001b[0m\u001b[1;33m:\u001b[0m \u001b[0mslice\u001b[0m\u001b[1;33m,\u001b[0m \u001b[0mvalue\u001b[0m\u001b[1;33m)\u001b[0m\u001b[1;33m:\u001b[0m\u001b[1;33m\u001b[0m\u001b[1;33m\u001b[0m\u001b[0m\n",
      "\u001b[1;32m~\\anaconda3\\lib\\site-packages\\pandas\\core\\frame.py\u001b[0m in \u001b[0;36m_set_item\u001b[1;34m(self, key, value)\u001b[0m\n\u001b[0;32m   3241\u001b[0m         \u001b[0mself\u001b[0m\u001b[1;33m.\u001b[0m\u001b[0m_ensure_valid_index\u001b[0m\u001b[1;33m(\u001b[0m\u001b[0mvalue\u001b[0m\u001b[1;33m)\u001b[0m\u001b[1;33m\u001b[0m\u001b[1;33m\u001b[0m\u001b[0m\n\u001b[0;32m   3242\u001b[0m         \u001b[0mvalue\u001b[0m \u001b[1;33m=\u001b[0m \u001b[0mself\u001b[0m\u001b[1;33m.\u001b[0m\u001b[0m_sanitize_column\u001b[0m\u001b[1;33m(\u001b[0m\u001b[0mkey\u001b[0m\u001b[1;33m,\u001b[0m \u001b[0mvalue\u001b[0m\u001b[1;33m)\u001b[0m\u001b[1;33m\u001b[0m\u001b[1;33m\u001b[0m\u001b[0m\n\u001b[1;32m-> 3243\u001b[1;33m         \u001b[0mNDFrame\u001b[0m\u001b[1;33m.\u001b[0m\u001b[0m_set_item\u001b[0m\u001b[1;33m(\u001b[0m\u001b[0mself\u001b[0m\u001b[1;33m,\u001b[0m \u001b[0mkey\u001b[0m\u001b[1;33m,\u001b[0m \u001b[0mvalue\u001b[0m\u001b[1;33m)\u001b[0m\u001b[1;33m\u001b[0m\u001b[1;33m\u001b[0m\u001b[0m\n\u001b[0m\u001b[0;32m   3244\u001b[0m \u001b[1;33m\u001b[0m\u001b[0m\n\u001b[0;32m   3245\u001b[0m         \u001b[1;31m# check if we are modifying a copy\u001b[0m\u001b[1;33m\u001b[0m\u001b[1;33m\u001b[0m\u001b[1;33m\u001b[0m\u001b[0m\n",
      "\u001b[1;32m~\\anaconda3\\lib\\site-packages\\pandas\\core\\generic.py\u001b[0m in \u001b[0;36m_set_item\u001b[1;34m(self, key, value)\u001b[0m\n\u001b[0;32m   3830\u001b[0m             \u001b[1;32mreturn\u001b[0m\u001b[1;33m\u001b[0m\u001b[1;33m\u001b[0m\u001b[0m\n\u001b[0;32m   3831\u001b[0m \u001b[1;33m\u001b[0m\u001b[0m\n\u001b[1;32m-> 3832\u001b[1;33m         \u001b[0mNDFrame\u001b[0m\u001b[1;33m.\u001b[0m\u001b[0m_iset_item\u001b[0m\u001b[1;33m(\u001b[0m\u001b[0mself\u001b[0m\u001b[1;33m,\u001b[0m \u001b[0mloc\u001b[0m\u001b[1;33m,\u001b[0m \u001b[0mvalue\u001b[0m\u001b[1;33m)\u001b[0m\u001b[1;33m\u001b[0m\u001b[1;33m\u001b[0m\u001b[0m\n\u001b[0m\u001b[0;32m   3833\u001b[0m \u001b[1;33m\u001b[0m\u001b[0m\n\u001b[0;32m   3834\u001b[0m     \u001b[1;33m@\u001b[0m\u001b[0mfinal\u001b[0m\u001b[1;33m\u001b[0m\u001b[1;33m\u001b[0m\u001b[0m\n",
      "\u001b[1;32m~\\anaconda3\\lib\\site-packages\\pandas\\core\\generic.py\u001b[0m in \u001b[0;36m_iset_item\u001b[1;34m(self, loc, value)\u001b[0m\n\u001b[0;32m   3819\u001b[0m \u001b[1;33m\u001b[0m\u001b[0m\n\u001b[0;32m   3820\u001b[0m     \u001b[1;32mdef\u001b[0m \u001b[0m_iset_item\u001b[0m\u001b[1;33m(\u001b[0m\u001b[0mself\u001b[0m\u001b[1;33m,\u001b[0m \u001b[0mloc\u001b[0m\u001b[1;33m:\u001b[0m \u001b[0mint\u001b[0m\u001b[1;33m,\u001b[0m \u001b[0mvalue\u001b[0m\u001b[1;33m)\u001b[0m \u001b[1;33m->\u001b[0m \u001b[1;32mNone\u001b[0m\u001b[1;33m:\u001b[0m\u001b[1;33m\u001b[0m\u001b[1;33m\u001b[0m\u001b[0m\n\u001b[1;32m-> 3821\u001b[1;33m         \u001b[0mself\u001b[0m\u001b[1;33m.\u001b[0m\u001b[0m_mgr\u001b[0m\u001b[1;33m.\u001b[0m\u001b[0miset\u001b[0m\u001b[1;33m(\u001b[0m\u001b[0mloc\u001b[0m\u001b[1;33m,\u001b[0m \u001b[0mvalue\u001b[0m\u001b[1;33m)\u001b[0m\u001b[1;33m\u001b[0m\u001b[1;33m\u001b[0m\u001b[0m\n\u001b[0m\u001b[0;32m   3822\u001b[0m         \u001b[0mself\u001b[0m\u001b[1;33m.\u001b[0m\u001b[0m_clear_item_cache\u001b[0m\u001b[1;33m(\u001b[0m\u001b[1;33m)\u001b[0m\u001b[1;33m\u001b[0m\u001b[1;33m\u001b[0m\u001b[0m\n\u001b[0;32m   3823\u001b[0m \u001b[1;33m\u001b[0m\u001b[0m\n",
      "\u001b[1;32m~\\anaconda3\\lib\\site-packages\\pandas\\core\\internals\\managers.py\u001b[0m in \u001b[0;36miset\u001b[1;34m(self, loc, value)\u001b[0m\n\u001b[0;32m   1087\u001b[0m \u001b[1;33m\u001b[0m\u001b[0m\n\u001b[0;32m   1088\u001b[0m             \u001b[1;32mif\u001b[0m \u001b[0mvalue\u001b[0m\u001b[1;33m.\u001b[0m\u001b[0mshape\u001b[0m\u001b[1;33m[\u001b[0m\u001b[1;36m1\u001b[0m\u001b[1;33m:\u001b[0m\u001b[1;33m]\u001b[0m \u001b[1;33m!=\u001b[0m \u001b[0mself\u001b[0m\u001b[1;33m.\u001b[0m\u001b[0mshape\u001b[0m\u001b[1;33m[\u001b[0m\u001b[1;36m1\u001b[0m\u001b[1;33m:\u001b[0m\u001b[1;33m]\u001b[0m\u001b[1;33m:\u001b[0m\u001b[1;33m\u001b[0m\u001b[1;33m\u001b[0m\u001b[0m\n\u001b[1;32m-> 1089\u001b[1;33m                 raise AssertionError(\n\u001b[0m\u001b[0;32m   1090\u001b[0m                     \u001b[1;34m\"Shape of new values must be compatible with manager shape\"\u001b[0m\u001b[1;33m\u001b[0m\u001b[1;33m\u001b[0m\u001b[0m\n\u001b[0;32m   1091\u001b[0m                 )\n",
      "\u001b[1;31mAssertionError\u001b[0m: Shape of new values must be compatible with manager shape"
     ]
    }
   ],
   "source": [
    "test['Rating_Pred'] = model.predict(test_data)"
   ]
  },
  {
   "cell_type": "code",
   "execution_count": 63,
   "id": "edc2104d-a326-49a3-aeb4-b2453ee02655",
   "metadata": {},
   "outputs": [
    {
     "data": {
      "text/html": [
       "<div>\n",
       "<style scoped>\n",
       "    .dataframe tbody tr th:only-of-type {\n",
       "        vertical-align: middle;\n",
       "    }\n",
       "\n",
       "    .dataframe tbody tr th {\n",
       "        vertical-align: top;\n",
       "    }\n",
       "\n",
       "    .dataframe thead th {\n",
       "        text-align: right;\n",
       "    }\n",
       "</style>\n",
       "<table border=\"1\" class=\"dataframe\">\n",
       "  <thead>\n",
       "    <tr style=\"text-align: right;\">\n",
       "      <th></th>\n",
       "      <th>Review</th>\n",
       "      <th>Rating</th>\n",
       "    </tr>\n",
       "  </thead>\n",
       "  <tbody>\n",
       "    <tr>\n",
       "      <th>101966</th>\n",
       "      <td>bad boys misses its chance at greatness but it...</td>\n",
       "      <td>0.750</td>\n",
       "    </tr>\n",
       "    <tr>\n",
       "      <th>452019</th>\n",
       "      <td>if early slasher films as their critics claime...</td>\n",
       "      <td>0.375</td>\n",
       "    </tr>\n",
       "    <tr>\n",
       "      <th>571797</th>\n",
       "      <td>it's bright and breezy from start to finish wi...</td>\n",
       "      <td>0.700</td>\n",
       "    </tr>\n",
       "    <tr>\n",
       "      <th>331805</th>\n",
       "      <td>no better or worse than 'truth or consequences...</td>\n",
       "      <td>0.500</td>\n",
       "    </tr>\n",
       "    <tr>\n",
       "      <th>253132</th>\n",
       "      <td>quite possibly the best godzilla film since th...</td>\n",
       "      <td>0.900</td>\n",
       "    </tr>\n",
       "    <tr>\n",
       "      <th>...</th>\n",
       "      <td>...</td>\n",
       "      <td>...</td>\n",
       "    </tr>\n",
       "    <tr>\n",
       "      <th>185881</th>\n",
       "      <td>declaration of war movingly chronicles a uniqu...</td>\n",
       "      <td>0.875</td>\n",
       "    </tr>\n",
       "    <tr>\n",
       "      <th>655128</th>\n",
       "      <td>leigh whannell employs some nifty fight sequen...</td>\n",
       "      <td>0.800</td>\n",
       "    </tr>\n",
       "    <tr>\n",
       "      <th>252273</th>\n",
       "      <td>in his feature film directorial debut john sla...</td>\n",
       "      <td>0.800</td>\n",
       "    </tr>\n",
       "    <tr>\n",
       "      <th>569659</th>\n",
       "      <td>spider man homecoming is smart and sincere and...</td>\n",
       "      <td>1.000</td>\n",
       "    </tr>\n",
       "    <tr>\n",
       "      <th>191876</th>\n",
       "      <td>the boy wants to dig for mystery the girl want...</td>\n",
       "      <td>0.400</td>\n",
       "    </tr>\n",
       "  </tbody>\n",
       "</table>\n",
       "<p>531096 rows × 2 columns</p>\n",
       "</div>"
      ],
      "text/plain": [
       "                                                   Review  Rating\n",
       "101966  bad boys misses its chance at greatness but it...   0.750\n",
       "452019  if early slasher films as their critics claime...   0.375\n",
       "571797  it's bright and breezy from start to finish wi...   0.700\n",
       "331805  no better or worse than 'truth or consequences...   0.500\n",
       "253132  quite possibly the best godzilla film since th...   0.900\n",
       "...                                                   ...     ...\n",
       "185881  declaration of war movingly chronicles a uniqu...   0.875\n",
       "655128  leigh whannell employs some nifty fight sequen...   0.800\n",
       "252273  in his feature film directorial debut john sla...   0.800\n",
       "569659  spider man homecoming is smart and sincere and...   1.000\n",
       "191876  the boy wants to dig for mystery the girl want...   0.400\n",
       "\n",
       "[531096 rows x 2 columns]"
      ]
     },
     "execution_count": 63,
     "metadata": {},
     "output_type": "execute_result"
    }
   ],
   "source": []
  },
  {
   "cell_type": "code",
   "execution_count": 62,
   "id": "13f13451-9699-4fdd-8990-749a011f2b90",
   "metadata": {},
   "outputs": [
    {
     "data": {
      "text/plain": [
       "array([[  38,   99,   15, ...,    0,    0,    0],\n",
       "       [ 587,   56,  936, ...,    0,    0,    0],\n",
       "       [ 115, 1221,   13, ...,    0,    0,    0],\n",
       "       ...,\n",
       "       [  12,    2,  575, ...,    0,    0,    0],\n",
       "       [  98,   13,    9, ...,    0,    0,    0],\n",
       "       [ 296,  335,  296, ...,    0,    0,    0]])"
      ]
     },
     "execution_count": 62,
     "metadata": {},
     "output_type": "execute_result"
    }
   ],
   "source": [
    "test"
   ]
  },
  {
   "cell_type": "code",
   "execution_count": 65,
   "id": "894c62cb-32c3-432b-bf38-299368724104",
   "metadata": {},
   "outputs": [
    {
     "name": "stdout",
     "output_type": "stream",
     "text": [
      "1/1 [==============================] - 0s 40ms/step\n"
     ]
    },
    {
     "data": {
      "text/plain": [
       "array([[[0.39875183],\n",
       "        [0.39765948],\n",
       "        [0.4182627 ],\n",
       "        [0.34570062],\n",
       "        [0.39893106],\n",
       "        [0.34730083],\n",
       "        [0.32923663]]], dtype=float32)"
      ]
     },
     "execution_count": 65,
     "metadata": {},
     "output_type": "execute_result"
    }
   ],
   "source": [
    "a = tokenizer.texts_to_sequences(['quite possibly the worst movie ever made'])\n",
    "model.predict(a)"
   ]
  },
  {
   "cell_type": "code",
   "execution_count": null,
   "id": "19608e61-fad8-408a-9810-448e0117a665",
   "metadata": {},
   "outputs": [],
   "source": []
  }
 ],
 "metadata": {
  "kernelspec": {
   "display_name": "Python 3",
   "language": "python",
   "name": "python3"
  },
  "language_info": {
   "codemirror_mode": {
    "name": "ipython",
    "version": 3
   },
   "file_extension": ".py",
   "mimetype": "text/x-python",
   "name": "python",
   "nbconvert_exporter": "python",
   "pygments_lexer": "ipython3",
   "version": "3.8.8"
  }
 },
 "nbformat": 4,
 "nbformat_minor": 5
}
